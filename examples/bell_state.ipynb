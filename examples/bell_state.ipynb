{
 "cells": [
  {
   "cell_type": "markdown",
   "metadata": {
    "collapsed": false
   },
   "source": [
    "# Analog circuit for preparing a Bell state\n",
    "\n",
    "Bell states are maximally entangled, two-qubit states that are ubiquitous in quantum information tasks. Here, we will create the analog quantum program to prepare the two-qubit Bell state,\n",
    "\n",
    "$$\n",
    "| \\psi \\rangle = \\frac{1}{\\sqrt{2}} \\left( |00\\rangle + |11\\rangle \\right)\n",
    "$$\n",
    "\n",
    "First, we import the relevant libraries and OQD modules.\n"
   ]
  },
  {
   "cell_type": "code",
   "execution_count": 1,
   "metadata": {
    "ExecuteTime": {
     "end_time": "2024-10-23T02:59:40.735250Z",
     "start_time": "2024-10-23T02:59:39.357537Z"
    }
   },
   "outputs": [],
   "source": [
    "import itertools\n",
    "import warnings\n",
    "\n",
    "import matplotlib.pyplot as plt\n",
    "import numpy as np\n",
    "import seaborn as sns\n",
    "from oqd_analog_emulator.qutip_backend import QutipBackend\n",
    "from oqd_core.backend.metric import Expectation\n",
    "from oqd_core.backend.task import Task, TaskArgsAnalog\n",
    "from oqd_core.interface.analog.operation import AnalogCircuit, AnalogGate\n",
    "from oqd_core.interface.analog.operator import PauliI, PauliX, PauliY, PauliZ\n",
    "\n",
    "warnings.filterwarnings(\"ignore\")"
   ]
  },
  {
   "cell_type": "markdown",
   "metadata": {
    "collapsed": false
   },
   "source": [
    "Next, we define the one- and two qubit Rabi frequencies and the control Hamiltonians.\n"
   ]
  },
  {
   "cell_type": "code",
   "execution_count": 2,
   "metadata": {
    "ExecuteTime": {
     "end_time": "2024-10-23T02:59:40.744692Z",
     "start_time": "2024-10-23T02:59:40.738142Z"
    },
    "collapsed": false
   },
   "outputs": [],
   "source": [
    "X, Y, Z, I = PauliX(), PauliY(), PauliZ(), PauliI()  # noqa: E741\n",
    "\n",
    "n = 2  # number of qubits\n",
    "\n",
    "# 1-qubit & 2-qubit Rabi frequencies\n",
    "w1 = 2 * np.pi * 1\n",
    "w2 = 2 * np.pi * 0.1"
   ]
  },
  {
   "cell_type": "code",
   "execution_count": 3,
   "metadata": {
    "ExecuteTime": {
     "end_time": "2024-10-23T02:59:40.814711Z",
     "start_time": "2024-10-23T02:59:40.749219Z"
    },
    "collapsed": false
   },
   "outputs": [],
   "source": [
    "Hii = AnalogGate(hamiltonian=I @ I)\n",
    "Hxi = AnalogGate(hamiltonian=X @ I)\n",
    "Hyi = AnalogGate(hamiltonian=Y @ I)\n",
    "Hxx = AnalogGate(hamiltonian=X @ X)\n",
    "Hmix = AnalogGate(hamiltonian=-1 * (I @ X))\n",
    "Hmxi = AnalogGate(hamiltonian=-1 * (X @ I))\n",
    "Hmyi = AnalogGate(hamiltonian=-1 * (Y @ I))"
   ]
  },
  {
   "cell_type": "markdown",
   "metadata": {
    "collapsed": false
   },
   "source": [
    "Now, we apply these Hamiltonians sequentially on the two qubits to prepare the entangled state and measure the whole system.\n"
   ]
  },
  {
   "cell_type": "code",
   "execution_count": 4,
   "metadata": {
    "ExecuteTime": {
     "end_time": "2024-10-23T02:59:40.815181Z",
     "start_time": "2024-10-23T02:59:40.799419Z"
    },
    "collapsed": false
   },
   "outputs": [],
   "source": [
    "circuit = AnalogCircuit()\n",
    "\n",
    "# Hadamard\n",
    "circuit.evolve(duration=(3 * np.pi) / 2, gate=Hii)\n",
    "circuit.evolve(duration=np.pi / 2, gate=Hxi)\n",
    "circuit.evolve(duration=np.pi / 4, gate=Hmyi)\n",
    "\n",
    "# CNOT\n",
    "circuit.evolve(duration=np.pi / 4, gate=Hyi)\n",
    "circuit.evolve(duration=np.pi / 4, gate=Hxx)\n",
    "circuit.evolve(duration=np.pi / 4, gate=Hmix)\n",
    "circuit.evolve(duration=np.pi / 4, gate=Hmxi)\n",
    "circuit.evolve(duration=np.pi / 4, gate=Hmyi)\n",
    "circuit.evolve(duration=np.pi / 4, gate=Hii)\n",
    "\n",
    "circuit.measure()"
   ]
  },
  {
   "cell_type": "markdown",
   "metadata": {
    "collapsed": false
   },
   "source": [
    "Finally, we can emulate the circuit evolution using a classical emulation and track the $Z_1$ and $Z_2$ expectation values.\n"
   ]
  },
  {
   "cell_type": "code",
   "execution_count": 5,
   "metadata": {
    "ExecuteTime": {
     "end_time": "2024-10-23T02:59:40.815692Z",
     "start_time": "2024-10-23T02:59:40.808873Z"
    },
    "collapsed": false
   },
   "outputs": [],
   "source": [
    "args = TaskArgsAnalog(\n",
    "    n_shots=1000,\n",
    "    fock_cutoff=4,\n",
    "    metrics={\n",
    "        \"Z_0\": Expectation(operator=(Z @ I)),\n",
    "        \"Z_1\": Expectation(operator=(I @ Z)),\n",
    "    },\n",
    "    dt=1e-2,\n",
    ")\n",
    "task = Task(program=circuit, args=args)"
   ]
  },
  {
   "cell_type": "code",
   "execution_count": 6,
   "metadata": {
    "ExecuteTime": {
     "end_time": "2024-10-23T02:59:41.156391Z",
     "start_time": "2024-10-23T02:59:40.966618Z"
    },
    "collapsed": false
   },
   "outputs": [
    {
     "name": "stdout",
     "output_type": "stream",
     "text": [
      "[1/1] Cythonizing qtcoeff_9935efd7b07a5b0c7f90e15bb1eec4.pyx\n",
      "running build_ext\n",
      "building 'qtcoeff_9935efd7b07a5b0c7f90e15bb1eec4' extension\n",
      "\"C:\\Program Files\\Microsoft Visual Studio\\2022\\Community\\VC\\Tools\\MSVC\\14.42.34433\\bin\\HostX86\\x64\\cl.exe\" /c /nologo /O2 /W3 /GL /DNDEBUG /MD -Id:\\work\\Projects\\equilux\\.venv\\Lib\\site-packages\\qutip\\core\\data -Id:\\work\\Projects\\equilux\\.venv\\Lib\\site-packages\\numpy\\core\\include -Id:\\work\\Projects\\equilux\\.venv\\include -IC:\\Users\\Salieri\\AppData\\Roaming\\uv\\python\\cpython-3.12.9-windows-x86_64-none\\include -IC:\\Users\\Salieri\\AppData\\Roaming\\uv\\python\\cpython-3.12.9-windows-x86_64-none\\Include \"-IC:\\Program Files\\Microsoft Visual Studio\\2022\\Community\\VC\\Tools\\MSVC\\14.42.34433\\include\" \"-IC:\\Program Files\\Microsoft Visual Studio\\2022\\Community\\VC\\Tools\\MSVC\\14.42.34433\\ATLMFC\\include\" \"-IC:\\Program Files\\Microsoft Visual Studio\\2022\\Community\\VC\\Auxiliary\\VS\\include\" \"-IC:\\Program Files (x86)\\Windows Kits\\10\\include\\10.0.22621.0\\ucrt\" \"-IC:\\Program Files (x86)\\Windows Kits\\10\\\\include\\10.0.22621.0\\\\um\" \"-IC:\\Program Files (x86)\\Windows Kits\\10\\\\include\\10.0.22621.0\\\\shared\" \"-IC:\\Program Files (x86)\\Windows Kits\\10\\\\include\\10.0.22621.0\\\\winrt\" \"-IC:\\Program Files (x86)\\Windows Kits\\10\\\\include\\10.0.22621.0\\\\cppwinrt\" /EHsc /Tpqtcoeff_9935efd7b07a5b0c7f90e15bb1eec4.cpp /Fobuild\\temp.win-amd64-cpython-312\\Release\\qtcoeff_9935efd7b07a5b0c7f90e15bb1eec4.obj\n",
      "\"C:\\Program Files\\Microsoft Visual Studio\\2022\\Community\\VC\\Tools\\MSVC\\14.42.34433\\bin\\HostX86\\x64\\link.exe\" /nologo /INCREMENTAL:NO /LTCG /DLL /MANIFEST:EMBED,ID=2 /MANIFESTUAC:NO /LIBPATH:d:\\work\\Projects\\equilux\\.venv\\libs /LIBPATH:C:\\Users\\Salieri\\AppData\\Roaming\\uv\\python\\cpython-3.12.9-windows-x86_64-none\\libs /LIBPATH:C:\\Users\\Salieri\\AppData\\Roaming\\uv\\python\\cpython-3.12.9-windows-x86_64-none /LIBPATH:d:\\work\\Projects\\equilux\\.venv\\PCbuild\\amd64 \"/LIBPATH:C:\\Program Files\\Microsoft Visual Studio\\2022\\Community\\VC\\Tools\\MSVC\\14.42.34433\\ATLMFC\\lib\\x64\" \"/LIBPATH:C:\\Program Files\\Microsoft Visual Studio\\2022\\Community\\VC\\Tools\\MSVC\\14.42.34433\\lib\\x64\" \"/LIBPATH:C:\\Program Files (x86)\\Windows Kits\\10\\lib\\10.0.22621.0\\ucrt\\x64\" \"/LIBPATH:C:\\Program Files (x86)\\Windows Kits\\10\\\\lib\\10.0.22621.0\\\\um\\x64\" /EXPORT:PyInit_qtcoeff_9935efd7b07a5b0c7f90e15bb1eec4 build\\temp.win-amd64-cpython-312\\Release\\qtcoeff_9935efd7b07a5b0c7f90e15bb1eec4.obj /OUT:build\\lib.win-amd64-cpython-312\\qtcoeff_9935efd7b07a5b0c7f90e15bb1eec4.cp312-win_amd64.pyd /IMPLIB:build\\temp.win-amd64-cpython-312\\Release\\qtcoeff_9935efd7b07a5b0c7f90e15bb1eec4.cp312-win_amd64.lib\n",
      "copying build\\lib.win-amd64-cpython-312\\qtcoeff_9935efd7b07a5b0c7f90e15bb1eec4.cp312-win_amd64.pyd -> \n"
     ]
    }
   ],
   "source": [
    "backend = QutipBackend()\n",
    "results = backend.run(task=task)"
   ]
  },
  {
   "cell_type": "markdown",
   "metadata": {
    "collapsed": false
   },
   "source": [
    "Finally, we visualize and plot the results for the circuit evolution and the resultant state.\n"
   ]
  },
  {
   "cell_type": "code",
   "execution_count": 7,
   "metadata": {
    "ExecuteTime": {
     "end_time": "2024-10-23T02:59:41.618214Z",
     "start_time": "2024-10-23T02:59:41.161014Z"
    },
    "collapsed": false
   },
   "outputs": [
    {
     "data": {
      "text/plain": [
       "<matplotlib.legend.Legend at 0x2b0ce6e12e0>"
      ]
     },
     "execution_count": 7,
     "metadata": {},
     "output_type": "execute_result"
    },
    {
     "data": {
      "image/png": "[encoded data removed]",
      "text/plain": [
       "<Figure size 600x300 with 1 Axes>"
      ]
     },
     "metadata": {},
     "output_type": "display_data"
    }
   ],
   "source": [
    "fig, ax = plt.subplots(1, 1, figsize=[6, 3])\n",
    "colors = sns.color_palette(palette=\"crest\", n_colors=4)\n",
    "\n",
    "for k, (name, metric) in enumerate(results.metrics.items()):\n",
    "    ax.plot(results.times, metric, label=f\"$\\\\langle {name} \\\\rangle$\", color=colors[k])\n",
    "ax.legend()"
   ]
  },
  {
   "cell_type": "code",
   "execution_count": 8,
   "metadata": {
    "ExecuteTime": {
     "end_time": "2024-10-23T02:59:42.106032Z",
     "start_time": "2024-10-23T02:59:41.624024Z"
    },
    "collapsed": false
   },
   "outputs": [
    {
     "name": "stdout",
     "output_type": "stream",
     "text": [
      "Using categorical units to plot a list of strings that are all parsable as floats or dates. If these strings should be plotted as numbers, cast to the appropriate data type before plotting.\n",
      "Using categorical units to plot a list of strings that are all parsable as floats or dates. If these strings should be plotted as numbers, cast to the appropriate data type before plotting.\n",
      "Using categorical units to plot a list of strings that are all parsable as floats or dates. If these strings should be plotted as numbers, cast to the appropriate data type before plotting.\n",
      "Using categorical units to plot a list of strings that are all parsable as floats or dates. If these strings should be plotted as numbers, cast to the appropriate data type before plotting.\n",
      "Using categorical units to plot a list of strings that are all parsable as floats or dates. If these strings should be plotted as numbers, cast to the appropriate data type before plotting.\n"
     ]
    },
    {
     "data": {
      "text/plain": [
       "[Text(0.5, 0, 'Basis state'),\n",
       " Text(0, 0.5, 'Amplitude (imag)'),\n",
       " (-3.141592653589793, 3.141592653589793)]"
      ]
     },
     "execution_count": 8,
     "metadata": {},
     "output_type": "execute_result"
    },
    {
     "data": {
      "image/png": "[encoded data removed]",
      "text/plain": [
       "<Figure size 500x900 with 4 Axes>"
      ]
     },
     "metadata": {},
     "output_type": "display_data"
    }
   ],
   "source": [
    "fig, axs = plt.subplots(4, 1, sharex=True, figsize=[5, 9])\n",
    "\n",
    "state = np.array([basis.real + 1j * basis.imag for basis in results.state])\n",
    "bases = [\"\".join(bits) for bits in itertools.product(\"01\", repeat=n)]\n",
    "counts = {basis: results.counts.get(basis, 0) for basis in bases}\n",
    "\n",
    "ax = axs[0]\n",
    "ax.bar(x=bases, height=np.abs(state) ** 2, color=colors[0])\n",
    "ax.set(ylabel=\"Probability\")\n",
    "\n",
    "\n",
    "ax = axs[1]\n",
    "ax.bar(x=bases, height=list(counts.values()), color=colors[1])\n",
    "ax.set(ylabel=\"Count\")\n",
    "\n",
    "ax = axs[2]\n",
    "ax.bar(x=bases, height=state.real, color=colors[2])\n",
    "ax.set(ylabel=\"Amplitude (real)\")\n",
    "\n",
    "ax = axs[3]\n",
    "ax.bar(x=bases, height=state.imag, color=colors[3])\n",
    "ax.set(xlabel=\"Basis state\", ylabel=\"Amplitude (imag)\", ylim=[-np.pi, np.pi])"
   ]
  }
 ],
 "metadata": {
  "kernelspec": {
   "display_name": ".venv",
   "language": "python",
   "name": "python3"
  },
  "language_info": {
   "codemirror_mode": {
    "name": "ipython",
    "version": 3
   },
   "file_extension": ".py",
   "mimetype": "text/x-python",
   "name": "python",
   "nbconvert_exporter": "python",
   "pygments_lexer": "ipython3",
   "version": "3.12.9"
  }
 },
 "nbformat": 4,
 "nbformat_minor": 2
}
